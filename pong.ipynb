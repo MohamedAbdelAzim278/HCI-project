{
 "cells": [
  {
   "cell_type": "code",
   "execution_count": 1,
   "id": "5321501b",
   "metadata": {},
   "outputs": [],
   "source": []
  },
  {
   "cell_type": "code",
   "execution_count": 2,
   "id": "07888921",
   "metadata": {},
   "outputs": [
    {
     "name": "stdout",
     "output_type": "stream",
     "text": [
      "pygame 2.4.0 (SDL 2.26.4, Python 3.9.13)\n",
      "Hello from the pygame community. https://www.pygame.org/contribute.html\n"
     ]
    }
   ],
   "source": [
    "import pygame\n",
    "import random\n",
    "\n",
    "# Initialize the game\n",
    "pygame.init()\n",
    "\n",
    "# Set up the game window\n",
    "window_width = 800\n",
    "window_height = 400\n",
    "window = pygame.display.set_mode((window_width, window_height))\n",
    "pygame.display.set_caption(\"Ping Pong Game\")\n",
    "\n",
    "# Set up the colors\n",
    "BLACK = (0, 0, 0)\n",
    "WHITE = (255, 255, 255)\n",
    "\n",
    "# Set up the paddles\n",
    "paddle_width = 10\n",
    "paddle_height = 60\n",
    "paddle_speed = 5\n",
    "player_paddle_x = window_width - paddle_width - 10\n",
    "player_paddle_y = window_height // 2 - paddle_height // 2\n",
    "ai_paddle_x = 10\n",
    "ai_paddle_y = window_height // 2 - paddle_height // 2\n",
    "\n",
    "# Set up the ball\n",
    "ball_radius = 10\n",
    "ball_speed_x = -3\n",
    "ball_speed_y = 3\n",
    "ball_x = window_width // 2\n",
    "ball_y = window_height // 2\n",
    "\n",
    "# Set up the game clock\n",
    "clock = pygame.time.Clock()\n",
    "\n",
    "# Game loop\n",
    "running = True\n",
    "while running:\n",
    "    # Handle events\n",
    "    for event in pygame.event.get():\n",
    "        if event.type == pygame.QUIT:\n",
    "            running = False\n",
    "\n",
    "    # Move the player paddle based on mouse position\n",
    "    mouse_x, mouse_y = pygame.mouse.get_pos()\n",
    "    player_paddle_y = mouse_y - paddle_height // 2\n",
    "\n",
    "    # Move the AI paddle to track the ball\n",
    "    if ball_speed_x < 0 and ball_x < window_width // 2:\n",
    "        if ai_paddle_y < ball_y:\n",
    "            ai_paddle_y += paddle_speed\n",
    "        elif ai_paddle_y > ball_y:\n",
    "            ai_paddle_y -= paddle_speed\n",
    "\n",
    "    # Update the ball position\n",
    "    ball_x += ball_speed_x\n",
    "    ball_y += ball_speed_y\n",
    "\n",
    "    # Check collision with the paddles\n",
    "    if (ball_x >= player_paddle_x and player_paddle_y <= ball_y <= player_paddle_y + paddle_height) or \\\n",
    "            (ball_x <= ai_paddle_x + paddle_width and ai_paddle_y <= ball_y <= ai_paddle_y + paddle_height):\n",
    "        ball_speed_x *= -1\n",
    "\n",
    "    # Check collision with walls\n",
    "    if ball_y <= 0 or ball_y >= window_height - ball_radius:\n",
    "        ball_speed_y *= -1\n",
    "\n",
    "    # Check if the ball goes out of bounds\n",
    "    if ball_x < 0 or ball_x > window_width:\n",
    "        # Reset ball position\n",
    "        ball_x = window_width // 2\n",
    "        ball_y = window_height // 2\n",
    "        # Randomize ball direction\n",
    "        ball_speed_x *= random.choice([1, -1])\n",
    "        ball_speed_y *= random.choice([1, -1])\n",
    "\n",
    "    # Clear the window\n",
    "    window.fill(BLACK)\n",
    "\n",
    "    # Draw the player paddle\n",
    "    pygame.draw.rect(window, WHITE, (player_paddle_x, player_paddle_y, paddle_width, paddle_height))\n",
    "\n",
    "    # Draw the AI paddle\n",
    "    pygame.draw.rect(window, WHITE, (ai_paddle_x, ai_paddle_y, paddle_width, paddle_height))\n",
    "\n",
    "    # Draw the ball\n",
    "    pygame.draw.circle(window, WHITE, (ball_x, ball_y), ball_radius)\n",
    "\n",
    "    # Update the display\n",
    "    pygame.display.flip()\n",
    "\n",
    "    # Set the frame rate\n",
    "    clock.tick(60)\n",
    "\n",
    "# Quit the game\n",
    "pygame.quit()"
   ]
  },
  {
   "cell_type": "code",
   "execution_count": 3,
   "id": "8b1a3c84",
   "metadata": {},
   "outputs": [
    {
     "name": "stdout",
     "output_type": "stream",
     "text": [
      "Collecting pygame\n",
      "  Downloading pygame-2.4.0-cp39-cp39-win_amd64.whl (10.6 MB)\n",
      "     ---------------------------------------- 10.6/10.6 MB 7.3 MB/s eta 0:00:00\n",
      "Installing collected packages: pygame\n",
      "Successfully installed pygame-2.4.0\n"
     ]
    },
    {
     "name": "stderr",
     "output_type": "stream",
     "text": [
      "WARNING: Ignoring invalid distribution -pencv-python-headless (c:\\users\\youss\\anaconda3\\envs\\testenv\\lib\\site-packages)\n",
      "WARNING: Ignoring invalid distribution -atplotlib (c:\\users\\youss\\anaconda3\\envs\\testenv\\lib\\site-packages)\n",
      "WARNING: Ignoring invalid distribution -pencv-python-headless (c:\\users\\youss\\anaconda3\\envs\\testenv\\lib\\site-packages)\n",
      "WARNING: Ignoring invalid distribution -atplotlib (c:\\users\\youss\\anaconda3\\envs\\testenv\\lib\\site-packages)\n",
      "WARNING: Ignoring invalid distribution -pencv-python-headless (c:\\users\\youss\\anaconda3\\envs\\testenv\\lib\\site-packages)\n",
      "WARNING: Ignoring invalid distribution -atplotlib (c:\\users\\youss\\anaconda3\\envs\\testenv\\lib\\site-packages)\n",
      "WARNING: Ignoring invalid distribution -pencv-python-headless (c:\\users\\youss\\anaconda3\\envs\\testenv\\lib\\site-packages)\n",
      "WARNING: Ignoring invalid distribution -atplotlib (c:\\users\\youss\\anaconda3\\envs\\testenv\\lib\\site-packages)\n",
      "WARNING: Ignoring invalid distribution -pencv-python-headless (c:\\users\\youss\\anaconda3\\envs\\testenv\\lib\\site-packages)\n",
      "WARNING: Ignoring invalid distribution -atplotlib (c:\\users\\youss\\anaconda3\\envs\\testenv\\lib\\site-packages)\n",
      "WARNING: Ignoring invalid distribution -pencv-python-headless (c:\\users\\youss\\anaconda3\\envs\\testenv\\lib\\site-packages)\n",
      "WARNING: Ignoring invalid distribution -atplotlib (c:\\users\\youss\\anaconda3\\envs\\testenv\\lib\\site-packages)\n",
      "WARNING: Ignoring invalid distribution -pencv-python-headless (c:\\users\\youss\\anaconda3\\envs\\testenv\\lib\\site-packages)\n",
      "WARNING: Ignoring invalid distribution -atplotlib (c:\\users\\youss\\anaconda3\\envs\\testenv\\lib\\site-packages)\n"
     ]
    }
   ],
   "source": [
    "!pip install pygame"
   ]
  },
  {
   "cell_type": "code",
   "execution_count": 1,
   "id": "8d9aa30d",
   "metadata": {},
   "outputs": [
    {
     "ename": "KeyboardInterrupt",
     "evalue": "",
     "output_type": "error",
     "traceback": [
      "\u001b[1;31m---------------------------------------------------------------------------\u001b[0m",
      "\u001b[1;31mKeyboardInterrupt\u001b[0m                         Traceback (most recent call last)",
      "Cell \u001b[1;32mIn[1], line 49\u001b[0m\n\u001b[0;32m     45\u001b[0m         frame \u001b[38;5;241m=\u001b[39m cv2\u001b[38;5;241m.\u001b[39mbitwise_or(frame, canvas)\n\u001b[0;32m     47\u001b[0m     cv2\u001b[38;5;241m.\u001b[39mimshow(\u001b[38;5;124m\"\u001b[39m\u001b[38;5;124mPaint Game\u001b[39m\u001b[38;5;124m\"\u001b[39m, frame)\n\u001b[1;32m---> 49\u001b[0m     \u001b[38;5;28;01mif\u001b[39;00m \u001b[43mcv2\u001b[49m\u001b[38;5;241;43m.\u001b[39;49m\u001b[43mwaitKey\u001b[49m\u001b[43m(\u001b[49m\u001b[38;5;241;43m1\u001b[39;49m\u001b[43m)\u001b[49m \u001b[38;5;241m==\u001b[39m \u001b[38;5;28mord\u001b[39m(\u001b[38;5;124m'\u001b[39m\u001b[38;5;124mq\u001b[39m\u001b[38;5;124m'\u001b[39m):\n\u001b[0;32m     50\u001b[0m         \u001b[38;5;28;01mbreak\u001b[39;00m\n\u001b[0;32m     52\u001b[0m \u001b[38;5;66;03m# Release the webcam and destroy all active windows\u001b[39;00m\n",
      "\u001b[1;31mKeyboardInterrupt\u001b[0m: "
     ]
    }
   ],
   "source": []
  },
  {
   "cell_type": "code",
   "execution_count": null,
   "id": "89f5279e",
   "metadata": {},
   "outputs": [],
   "source": []
  }
 ],
 "metadata": {
  "kernelspec": {
   "display_name": "Python 3 (ipykernel)",
   "language": "python",
   "name": "python3"
  },
  "language_info": {
   "codemirror_mode": {
    "name": "ipython",
    "version": 3
   },
   "file_extension": ".py",
   "mimetype": "text/x-python",
   "name": "python",
   "nbconvert_exporter": "python",
   "pygments_lexer": "ipython3",
   "version": "3.9.13"
  }
 },
 "nbformat": 4,
 "nbformat_minor": 5
}
