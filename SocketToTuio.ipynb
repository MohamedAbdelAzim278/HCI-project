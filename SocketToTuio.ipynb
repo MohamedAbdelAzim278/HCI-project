{
 "cells": [
  {
   "cell_type": "code",
   "execution_count": 1,
   "id": "b10d51b0",
   "metadata": {},
   "outputs": [
    {
     "name": "stdout",
     "output_type": "stream",
     "text": [
      "Server started, run the c# app\n",
      "Device connected\n"
     ]
    },
    {
     "ename": "ConnectionResetError",
     "evalue": "[WinError 10054] An existing connection was forcibly closed by the remote host",
     "output_type": "error",
     "traceback": [
      "\u001b[1;31m---------------------------------------------------------------------------\u001b[0m",
      "\u001b[1;31mConnectionResetError\u001b[0m                      Traceback (most recent call last)",
      "Input \u001b[1;32mIn [1]\u001b[0m, in \u001b[0;36m<cell line: 28>\u001b[1;34m()\u001b[0m\n\u001b[0;32m     29\u001b[0m     \u001b[38;5;66;03m#client = str.encode(str(client))\u001b[39;00m\n\u001b[0;32m     30\u001b[0m     msg \u001b[38;5;241m=\u001b[39m \u001b[38;5;28mstr\u001b[39m\u001b[38;5;241m.\u001b[39mencode(\u001b[38;5;28mstr\u001b[39m(msg))\n\u001b[1;32m---> 32\u001b[0m     \u001b[43mconn\u001b[49m\u001b[38;5;241;43m.\u001b[39;49m\u001b[43msend\u001b[49m\u001b[43m(\u001b[49m\u001b[43mmsg\u001b[49m\u001b[43m)\u001b[49m\n\u001b[0;32m     33\u001b[0m cv2\u001b[38;5;241m.\u001b[39mdestroyAllWindows()\n",
      "\u001b[1;31mConnectionResetError\u001b[0m: [WinError 10054] An existing connection was forcibly closed by the remote host"
     ]
    }
   ],
   "source": [
    "import cv2\n",
    "import mediapipe as mp\n",
    "import socket\n",
    "import pickle \n",
    "mp_drawing = mp.solutions.drawing_utils\n",
    "mp_hands = mp.solutions.hands\n",
    "y = 1\n",
    "x = 1\n",
    "soc=socket.socket()\n",
    "Port=4444\n",
    "maxConnections=5\n",
    "host=socket.gethostname()\n",
    "soc.bind((host,Port))\n",
    "soc.listen(5)\n",
    "print(\"Server started, run the c# app\")\n",
    "\n",
    "\n",
    "conn , addr = soc.accept()\n",
    "\n",
    "\n",
    "#msg = pickle.dumps(y)\n",
    "#conn.send(msg)\n",
    "\n",
    "print(\"Device connected\")\n",
    "while True :\n",
    "    #msg = b\"Hello World\"\n",
    "    #msg = pickle.dumps(y)\n",
    "    msg = f\"{x},{y}\"\n",
    "    #client = str.encode(str(client))\n",
    "    msg = str.encode(str(msg))\n",
    "    \n",
    "    conn.send(msg)\n",
    "cv2.destroyAllWindows()"
   ]
  },
  {
   "cell_type": "code",
   "execution_count": null,
   "id": "3f182df0",
   "metadata": {},
   "outputs": [],
   "source": []
  }
 ],
 "metadata": {
  "kernelspec": {
   "display_name": "Python 3 (ipykernel)",
   "language": "python",
   "name": "python3"
  },
  "language_info": {
   "codemirror_mode": {
    "name": "ipython",
    "version": 3
   },
   "file_extension": ".py",
   "mimetype": "text/x-python",
   "name": "python",
   "nbconvert_exporter": "python",
   "pygments_lexer": "ipython3",
   "version": "3.9.12"
  }
 },
 "nbformat": 4,
 "nbformat_minor": 5
}
