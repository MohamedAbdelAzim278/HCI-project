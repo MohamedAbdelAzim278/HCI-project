{
 "cells": [
  {
   "cell_type": "code",
   "execution_count": 2,
   "id": "7f422d57",
   "metadata": {},
   "outputs": [],
   "source": [
    "import face_recognition as fr # To recognize faces\n",
    "import numpy as np # To handle all lists/arrays\n",
    "import cv2 # To capture webcam footage\n",
    "import os # To handle all matters relating to folders, paths, image/file names, etc."
   ]
  },
  {
   "cell_type": "code",
   "execution_count": 3,
   "id": "b297474b",
   "metadata": {},
   "outputs": [],
   "source": [
    "faces_path = \"C:\\\\Users\\\\LAPTOP\\\\Pictures\\\\Camera Roll\\\\known\""
   ]
  },
  {
   "cell_type": "code",
   "execution_count": 4,
   "id": "ec831ca8",
   "metadata": {},
   "outputs": [],
   "source": [
    "def get_face_encodings():\n",
    "    face_names = os.listdir(faces_path)\n",
    "    face_encodings = []\n",
    "\n",
    "    # For loop to retrieve all face encodings and store them in a list.\n",
    "    # Below loop also gets the names of people and removes \".jpg\", and stores\n",
    "    # the names in a list\n",
    "    for i, name in enumerate(face_names):\n",
    "        face = fr.load_image_file(f\"{faces_path}\\\\{name}\")\n",
    "        face_encodings.append(fr.face_encodings(face)[0])\n",
    "\n",
    "        face_names[i] = name.split(\".\")[0] # To remove \".jpg\" or any other image extension\n",
    "    \n",
    "    return face_encodings, face_names"
   ]
  },
  {
   "cell_type": "code",
   "execution_count": 5,
   "id": "1d9721a1",
   "metadata": {},
   "outputs": [],
   "source": [
    "face_encodings, face_names = get_face_encodings()"
   ]
  },
  {
   "cell_type": "code",
   "execution_count": 6,
   "id": "02bb8da0",
   "metadata": {},
   "outputs": [],
   "source": [
    "video = cv2.VideoCapture(0)\n",
    "scl = 2"
   ]
  },
  {
   "cell_type": "code",
   "execution_count": 7,
   "id": "0dca8d4f",
   "metadata": {},
   "outputs": [],
   "source": [
    "while True:\n",
    "    success, image = video.read()\n",
    "\n",
    "    # Making current frame smaller so program runs faster\n",
    "    resized_image = cv2.resize(image, (int(image.shape[1]/scl), int(image.shape[0]/scl)))\n",
    "\n",
    "    # Converting current frame to RGB, since that's what the face recognition module uses\n",
    "    rgb_image = cv2.cvtColor(resized_image, cv2.COLOR_BGR2RGB)\n",
    "\n",
    "    # Retrieving face location coordinates and unknown encodings\n",
    "    face_locations = fr.face_locations(rgb_image)\n",
    "    unknown_encodings = fr.face_encodings(rgb_image, face_locations)\n",
    "\n",
    "    # Iterating through each encoding, as well as the face's location\n",
    "    for face_encoding, face_location in zip(unknown_encodings, face_locations):\n",
    "        # Comparing known faces with unknown faces\n",
    "        result = fr.compare_faces(face_encodings, face_encoding, 0.4)\n",
    "\n",
    "        # Getting correct name if a match was found\n",
    "        if True in result:\n",
    "            name = face_names[result.index(True)]\n",
    "           \n",
    "\n",
    "            # Setting coordinates for face location\n",
    "            top, right, bottom, left = face_location\n",
    "\n",
    "            # Drawing rectangle around face\n",
    "            cv2.rectangle(image, (left*scl, top*scl), (right*scl, bottom*scl), (0, 0, 255), 2)\n",
    "\n",
    "            # Setting font, as well as displaying text of name\n",
    "            font = cv2.FONT_HERSHEY_DUPLEX\n",
    "            cv2.putText(image, name, (left*scl, bottom*scl + 20), font, 0.8, (255, 255, 255), 1)\n",
    "        else:\n",
    "            # If no match is found, print \"unknown\"\n",
    "            name = \"unknown\"\n",
    "           \n",
    "\n",
    "            # Setting coordinates for face location\n",
    "            top, right, bottom, left = face_location\n",
    "\n",
    "            # Drawing rectangle around face\n",
    "            cv2.rectangle(image, (left*scl, top*scl), (right*scl, bottom*scl), (0, 0, 255), 2)\n",
    "\n",
    "            # Setting font, as well as displaying text of name\n",
    "            font = cv2.FONT_HERSHEY_DUPLEX\n",
    "            cv2.putText(image, name, (left*scl, bottom*scl + 20), font, 0.8, (255, 255, 255), 1)\n",
    "        \n",
    "       \n",
    "                \n",
    "\n",
    "    # Displaying final image on the screen\n",
    "    cv2.imshow(\"frame\", image)\n",
    "    if cv2.waitKey(10) & 0xFF == ord('q'):\n",
    "            break\n",
    "    cv2.waitKey(1)"
   ]
  },
  {
   "cell_type": "code",
   "execution_count": null,
   "id": "b5aa0be4",
   "metadata": {},
   "outputs": [],
   "source": []
  },
  {
   "cell_type": "code",
   "execution_count": null,
   "id": "6283b912",
   "metadata": {},
   "outputs": [],
   "source": []
  }
 ],
 "metadata": {
  "kernelspec": {
   "display_name": "Python 3 (ipykernel)",
   "language": "python",
   "name": "python3"
  },
  "language_info": {
   "codemirror_mode": {
    "name": "ipython",
    "version": 3
   },
   "file_extension": ".py",
   "mimetype": "text/x-python",
   "name": "python",
   "nbconvert_exporter": "python",
   "pygments_lexer": "ipython3",
   "version": "3.9.13"
  }
 },
 "nbformat": 4,
 "nbformat_minor": 5
}
