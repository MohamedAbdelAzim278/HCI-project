{
 "cells": [
  {
   "cell_type": "code",
   "execution_count": 1,
   "metadata": {},
   "outputs": [
    {
     "name": "stdout",
     "output_type": "stream",
     "text": [
      "Collecting pybluez\n",
      "  Downloading https://files.pythonhosted.org/packages/3e/78/d4ba3d69a20313be05afbea2ce5d29f7fa39f7a5c091fc7c1331a3feb3c1/PyBluez-0.23-cp37-cp37m-win_amd64.whl (45kB)\n",
      "Installing collected packages: pybluez\n",
      "Successfully installed pybluez-0.23\n"
     ]
    }
   ],
   "source": [
    "!pip install pybluez"
   ]
  },
  {
   "cell_type": "code",
   "execution_count": 2,
   "metadata": {},
   "outputs": [],
   "source": [
    "import bluetooth"
   ]
  },
  {
   "cell_type": "code",
   "execution_count": 13,
   "metadata": {},
   "outputs": [],
   "source": [
    "nearby_devices=bluetooth.discover_devices(lookup_names=True)"
   ]
  },
  {
   "cell_type": "code",
   "execution_count": 14,
   "metadata": {},
   "outputs": [
    {
     "name": "stdout",
     "output_type": "stream",
     "text": [
      "found 4 devices\n"
     ]
    }
   ],
   "source": [
    "print(\"found %d devices\" % len(nearby_devices))"
   ]
  },
  {
   "cell_type": "code",
   "execution_count": 15,
   "metadata": {},
   "outputs": [
    {
     "name": "stdout",
     "output_type": "stream",
     "text": [
      "  84:17:66:64:EA:A5 - Wireless Controller\n",
      "  88:64:40:C2:F6:27 - Mark’s Airpods\n",
      "  F4:7B:5E:41:27:32 - [TV]Samsung LEDNO\n",
      "  4C:DD:31:1A:26:19 - Galaxy A6\n"
     ]
    }
   ],
   "source": [
    "for addr, name in nearby_devices:\n",
    "    print(\"  %s - %s\" % (addr, name))"
   ]
  },
  {
   "cell_type": "code",
   "execution_count": null,
   "metadata": {},
   "outputs": [],
   "source": []
  },
  {
   "cell_type": "code",
   "execution_count": null,
   "metadata": {},
   "outputs": [],
   "source": []
  },
  {
   "cell_type": "code",
   "execution_count": null,
   "metadata": {},
   "outputs": [],
   "source": []
  }
 ],
 "metadata": {
  "kernelspec": {
   "display_name": "Python 3",
   "language": "python",
   "name": "python3"
  },
  "language_info": {
   "codemirror_mode": {
    "name": "ipython",
    "version": 3
   },
   "file_extension": ".py",
   "mimetype": "text/x-python",
   "name": "python",
   "nbconvert_exporter": "python",
   "pygments_lexer": "ipython3",
   "version": "3.7.3"
  }
 },
 "nbformat": 4,
 "nbformat_minor": 2
}
